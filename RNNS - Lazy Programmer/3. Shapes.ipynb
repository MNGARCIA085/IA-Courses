{
 "cells": [
  {
   "cell_type": "markdown",
   "id": "22664630",
   "metadata": {},
   "source": [
    "## <center> <font color='blue'> <b> Shapes </b> </font> </center>"
   ]
  },
  {
   "cell_type": "code",
   "execution_count": 6,
   "id": "fdcde1f6",
   "metadata": {},
   "outputs": [],
   "source": [
    "import numpy as np\n",
    "from tensorflow.keras.models import Model\n",
    "from tensorflow.keras.layers import Input, SimpleRNN, Dense \n"
   ]
  },
  {
   "cell_type": "markdown",
   "id": "37205bdf",
   "metadata": {},
   "source": [
    "- N = number of samples\n",
    "- T = sequence length\n",
    "- D = number of input features\n",
    "- M = number of hidden units\n",
    "- K = number of output units"
   ]
  },
  {
   "cell_type": "code",
   "execution_count": 3,
   "id": "26b31d25",
   "metadata": {},
   "outputs": [],
   "source": [
    "N = 1\n",
    "T = 10\n",
    "D = 3\n",
    "K = 2\n",
    "X = np.random.randn(N, T, D)"
   ]
  },
  {
   "cell_type": "code",
   "execution_count": 7,
   "id": "f3262c1a",
   "metadata": {},
   "outputs": [],
   "source": [
    "# Make an RNN\n",
    "M = 5 # numbe of hidden units\n",
    "i = Input(shape=(T, D))\n",
    "x = SimpleRNN(M)(i)\n",
    "x = Dense(K)(x)\n",
    "\n",
    "model = Model(i, x)"
   ]
  },
  {
   "cell_type": "code",
   "execution_count": 9,
   "id": "860d0979",
   "metadata": {},
   "outputs": [
    {
     "name": "stdout",
     "output_type": "stream",
     "text": [
      "Model: \"model\"\n",
      "_________________________________________________________________\n",
      " Layer (type)                Output Shape              Param #   \n",
      "=================================================================\n",
      " input_1 (InputLayer)        [(None, 10, 3)]           0         \n",
      "                                                                 \n",
      " simple_rnn (SimpleRNN)      (None, 5)                 45        \n",
      "                                                                 \n",
      " dense (Dense)               (None, 2)                 12        \n",
      "                                                                 \n",
      "=================================================================\n",
      "Total params: 57 (228.00 Byte)\n",
      "Trainable params: 57 (228.00 Byte)\n",
      "Non-trainable params: 0 (0.00 Byte)\n",
      "_________________________________________________________________\n"
     ]
    }
   ],
   "source": [
    "model.summary()"
   ]
  },
  {
   "cell_type": "code",
   "execution_count": 14,
   "id": "452391cf",
   "metadata": {},
   "outputs": [
    {
     "data": {
      "text/plain": [
       "[<keras.src.engine.input_layer.InputLayer at 0x70b83e2b7df0>,\n",
       " <keras.src.layers.rnn.simple_rnn.SimpleRNN at 0x70b83e2b7fd0>,\n",
       " <keras.src.layers.core.dense.Dense at 0x70b83e2e2500>]"
      ]
     },
     "execution_count": 14,
     "metadata": {},
     "output_type": "execute_result"
    }
   ],
   "source": [
    "# we have 3 layers\n",
    "model.layers"
   ]
  },
  {
   "cell_type": "code",
   "execution_count": 16,
   "id": "0eaf2c59",
   "metadata": {},
   "outputs": [
    {
     "data": {
      "text/plain": [
       "[]"
      ]
     },
     "execution_count": 16,
     "metadata": {},
     "output_type": "execute_result"
    }
   ],
   "source": [
    "model.layers[0].get_weights()"
   ]
  },
  {
   "cell_type": "code",
   "execution_count": 18,
   "id": "dcaf1ef1",
   "metadata": {},
   "outputs": [
    {
     "data": {
      "text/plain": [
       "[array([[ 0.13106674, -0.22770149, -0.3609569 ,  0.68683106,  0.68256456],\n",
       "        [-0.70461833,  0.30594808,  0.4205361 , -0.22449201,  0.35562223],\n",
       "        [ 0.48581475,  0.4715523 ,  0.18805414, -0.6843454 , -0.7347472 ]],\n",
       "       dtype=float32),\n",
       " array([[-0.05307329, -0.32266968,  0.9437103 ,  0.04839824,  0.01166544],\n",
       "        [-0.14279969,  0.3933387 ,  0.09161005,  0.49771234,  0.7541771 ],\n",
       "        [-0.94671094,  0.20606092,  0.02809924, -0.1692499 , -0.17844371],\n",
       "        [ 0.18354385,  0.6360593 ,  0.21423557,  0.40712726, -0.5916847 ],\n",
       "        [ 0.21642894,  0.5423436 ,  0.23309244, -0.74534684,  0.22169332]],\n",
       "       dtype=float32),\n",
       " array([0., 0., 0., 0., 0.], dtype=float32)]"
      ]
     },
     "execution_count": 18,
     "metadata": {},
     "output_type": "execute_result"
    }
   ],
   "source": [
    "model.layers[1].get_weights()"
   ]
  },
  {
   "cell_type": "code",
   "execution_count": 19,
   "id": "35e15c35",
   "metadata": {},
   "outputs": [
    {
     "data": {
      "text/plain": [
       "[array([[ 0.5727223 , -0.9049505 ],\n",
       "        [ 0.5992048 , -0.39434803],\n",
       "        [ 0.86093557, -0.06410849],\n",
       "        [ 0.21143854, -0.77533203],\n",
       "        [-0.89546096, -0.22916865]], dtype=float32),\n",
       " array([0., 0.], dtype=float32)]"
      ]
     },
     "execution_count": 19,
     "metadata": {},
     "output_type": "execute_result"
    }
   ],
   "source": [
    "model.layers[2].get_weights()"
   ]
  },
  {
   "cell_type": "markdown",
   "id": "272039c9",
   "metadata": {},
   "source": [
    "We are going to concentrate in layer 1.\n",
    "\n",
    "Check their shapes\n",
    "\n",
    "- First output is input -> hidden (D x M)\n",
    "- Second is hidden -> hidden (M x M)\n",
    "- Third is the bias term (vector of length M)\n"
   ]
  },
  {
   "cell_type": "code",
   "execution_count": 21,
   "id": "d6e88f59",
   "metadata": {},
   "outputs": [
    {
     "name": "stdout",
     "output_type": "stream",
     "text": [
      "(3, 5) (5, 5) (5,)\n"
     ]
    }
   ],
   "source": [
    "a, b, c = model.layers[1].get_weights()\n",
    "print(a.shape, b.shape, c.shape)\n"
   ]
  },
  {
   "cell_type": "code",
   "execution_count": 8,
   "id": "8874e200",
   "metadata": {},
   "outputs": [
    {
     "name": "stdout",
     "output_type": "stream",
     "text": [
      "1/1 [==============================] - 0s 353ms/step\n"
     ]
    },
    {
     "data": {
      "text/plain": [
       "array([[-0.21117096,  0.65983284]], dtype=float32)"
      ]
     },
     "execution_count": 8,
     "metadata": {},
     "output_type": "execute_result"
    }
   ],
   "source": [
    "# make a prediction (of course it doesnt make sense, is just for illustrative purpose)\n",
    "yhat = model.predict(X)\n",
    "yhat"
   ]
  },
  {
   "cell_type": "markdown",
   "id": "273045ec",
   "metadata": {},
   "source": [
    "Now, let's manually calculate a prediction."
   ]
  },
  {
   "cell_type": "code",
   "execution_count": 23,
   "id": "46a6195d",
   "metadata": {},
   "outputs": [],
   "source": [
    "# first, we get the weights\n",
    "Wx, Wh, bh = model.layers[1].get_weights()\n",
    "Wo, bo = model.layers[2].get_weights()"
   ]
  },
  {
   "cell_type": "code",
   "execution_count": 28,
   "id": "851f04a1",
   "metadata": {},
   "outputs": [
    {
     "name": "stdout",
     "output_type": "stream",
     "text": [
      "[-0.21117087  0.65983285]\n"
     ]
    }
   ],
   "source": [
    "h_last = np.zeros(M) # initial hidden state\n",
    "x = X[0] # the one and only sample\n",
    "\n",
    "Yhats = [] # where we store the outputs\n",
    "for t in range(T):\n",
    "    h = np.tanh(x[t].dot(Wx) + h_last.dot(Wh) + bh)\n",
    "    y = h.dot(Wo) + bo # we only care about this value on the last iteration\n",
    "    Yhats.append(y)\n",
    "    \n",
    "    #assign h to h_last\n",
    "    h_last = h\n",
    "    \n",
    "#print the final output\n",
    "print(Yhats[-1])\n"
   ]
  },
  {
   "cell_type": "markdown",
   "id": "864d4553",
   "metadata": {},
   "source": [
    "We got the same values as with model.predict."
   ]
  }
 ],
 "metadata": {
  "kernelspec": {
   "display_name": "Python 3 (ipykernel)",
   "language": "python",
   "name": "python3"
  },
  "language_info": {
   "codemirror_mode": {
    "name": "ipython",
    "version": 3
   },
   "file_extension": ".py",
   "mimetype": "text/x-python",
   "name": "python",
   "nbconvert_exporter": "python",
   "pygments_lexer": "ipython3",
   "version": "3.10.12"
  }
 },
 "nbformat": 4,
 "nbformat_minor": 5
}
